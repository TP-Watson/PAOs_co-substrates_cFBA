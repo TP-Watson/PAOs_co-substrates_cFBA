{
 "cells": [
  {
   "cell_type": "code",
   "execution_count": 1,
   "id": "79c7d7e7",
   "metadata": {},
   "outputs": [],
   "source": [
    "import numpy as np\n",
    "import pandas as pd\n",
    "import matplotlib.pyplot as plt\n",
    "from py_cFBA import *"
   ]
  },
  {
   "cell_type": "code",
   "execution_count": null,
   "id": "6bec5242",
   "metadata": {},
   "outputs": [],
   "source": [
    "def cFBA_mix(sbml_file, ac, substrate_name, substrate_level):\n",
    "    # Quotas for the model (min based from Acevedo 2012)\n",
    "    quotas = [\n",
    "    #   ['type',     'metabolite', time, value]\n",
    "        ['equality', 'Acetate',      0,    ac],\n",
    "        ['equality', 'Acetate',      1,    0],\n",
    "        ['equality', substrate_name, 0,    substrate_level],\n",
    "        ['equality', substrate_name, 1,    0],\n",
    "        ['min',      'Glyc',         0,    0.012],\n",
    "        ['min',      'PolyP',        0,    0.1],\n",
    "        ['min',      'PHB',          0,    0.006],\n",
    "        ['min',      'PH2MV',        0,    0.006],\n",
    "    ]\n",
    "\n",
    "\n",
    "    # Generate the Linear Programming (LP) model components for cFBA\n",
    "    cons, Mk, imbalanced_mets, nm, nr, nt = generate_LP_cFBA(sbml_file, quotas, dt)\n",
    "\n",
    "    # Find the optimal alpha value\n",
    "    alpha, prob = find_alpha(cons, Mk, imbalanced_mets)\n",
    "\n",
    "    # Retrieve the solution (fluxes, amounts, and time points)\n",
    "    fluxes, amounts, t = get_fluxes_amounts(sbml_file, prob, dt)\n",
    "\n",
    "    # Store the solution of fluxes and amounts\n",
    "    solution = {\n",
    "        'alpha': alpha,\n",
    "        'fluxes': fluxes,\n",
    "        'amounts': amounts,\n",
    "        'time_points': t\n",
    "    }\n",
    "\n",
    "    return solution\n",
    "\n",
    "\n",
    "def simulate_substrate(file_name, substrate_name, dor_S, n_sim):\n",
    "\n",
    "    dor_ac = 8 # e/mol\n",
    "\n",
    "    # Based on Acevedo 2012\n",
    "    ac_load = 0.087               # mol ac / cmolx\n",
    "    cod_load = ac_load * dor_ac   # mol ac / cmolx  ->  e- mol / cmolx\n",
    "   \n",
    "    # Determine acetate and substrate concentrations (alwyas same electron load)\n",
    "    acetate = np.linspace(0, ac_load, n_sim)\n",
    "    substrate = (cod_load - (acetate*dor_ac)) / dor_S\n",
    "    perc_acetate = (acetate*dor_ac)/cod_load*100\n",
    "    perc_substrate = (substrate*dor_S)/cod_load*100\n"
   ]
  },
  {
   "cell_type": "code",
   "execution_count": null,
   "id": "1cf6946d",
   "metadata": {},
   "outputs": [],
   "source": [
    "excel_file = ''\n",
    "sbml_file = ''\n",
    "# Variables model\n",
    "S_mat = pd.read_excel(excel_file, sheet_name='S_mat', index_col=0, header=0)\n",
    "imbalanced_mets = list(pd.read_excel(excel_file, sheet_name='Imbalanced_mets')['Met'])\n",
    "\n",
    "# Generate the Linear Programming (LP) model components for cFBA\n",
    "cons, Mk, imbalanced_mets, nm, nr, nt = generate_LP_cFBA(sbml_file, quotas, dt)\n",
    "\n",
    "# Find the optimal alpha value\n",
    "print('Time simulation:')\n",
    "alpha, prob = find_alpha(cons, Mk, imbalanced_mets)\n",
    "print('Growth of the system: {:.4f}'.format(alpha))\n",
    "\n",
    "# Retrieve the solution (fluxes, amounts, and time points)\n",
    "fluxes, amounts, t = get_fluxes_amounts(output_file, prob, dt)\n"
   ]
  },
  {
   "cell_type": "code",
   "execution_count": null,
   "id": "af6f2c2a",
   "metadata": {},
   "outputs": [],
   "source": []
  },
  {
   "cell_type": "code",
   "execution_count": null,
   "id": "4f1ba3de",
   "metadata": {},
   "outputs": [],
   "source": []
  }
 ],
 "metadata": {
  "kernelspec": {
   "display_name": "Python (test_py_cFBA)",
   "language": "python",
   "name": "test_py_cfba"
  },
  "language_info": {
   "codemirror_mode": {
    "name": "ipython",
    "version": 3
   },
   "file_extension": ".py",
   "mimetype": "text/x-python",
   "name": "python",
   "nbconvert_exporter": "python",
   "pygments_lexer": "ipython3",
   "version": "3.9.19"
  }
 },
 "nbformat": 4,
 "nbformat_minor": 5
}
