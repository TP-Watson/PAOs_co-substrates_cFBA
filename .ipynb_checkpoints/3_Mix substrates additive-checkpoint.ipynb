{
 "cells": [
  {
   "cell_type": "code",
   "execution_count": 1,
   "id": "181d90d2",
   "metadata": {},
   "outputs": [],
   "source": [
    "import numpy as np\n",
    "import pandas as pd\n",
    "import matplotlib.pyplot as plt\n",
    "from py_cFBA import *"
   ]
  },
  {
   "cell_type": "code",
   "execution_count": 2,
   "id": "2eec52f5",
   "metadata": {},
   "outputs": [],
   "source": [
    "def cFBA_mix(sbml_file, ac, substrate_name, substrate_level):\n",
    "    # Quotas for the model (min based from Acevedo 2012)\n",
    "    quotas = [\n",
    "    #   ['type',     'metabolite', time, value]\n",
    "        ['equality', 'Acetate',      0,    ac],\n",
    "        ['equality', 'Acetate',      1,    0],\n",
    "        ['equality', substrate_name, 0,    substrate_level],\n",
    "        ['equality', substrate_name, 1,    0],\n",
    "        ['min',      'Glyc',         0,    0.012],\n",
    "        ['min',      'PolyP',        0,    0.1],\n",
    "        ['min',      'PHB',          0,    0.006],\n",
    "        ['min',      'PH2MV',        0,    0.006],\n",
    "    ]\n",
    "\n",
    "    # Generate the Linear Programming (LP) model components for cFBA\n",
    "    cons, Mk, imbalanced_mets, nm, nr, nt = generate_LP_cFBA(sbml_file, quotas, dt)\n",
    "\n",
    "    # Find the optimal alpha value\n",
    "    alpha, prob = find_alpha(cons, Mk, imbalanced_mets)\n",
    "\n",
    "    # Retrieve the solution (fluxes, amounts, and time points)\n",
    "    fluxes, amounts, t = get_fluxes_amounts(sbml_file, prob, dt)\n",
    "\n",
    "    # Store the solution of fluxes and amounts\n",
    "    solution = {\n",
    "        'alpha': alpha,\n",
    "        'fluxes': fluxes,\n",
    "        'amounts': amounts,\n",
    "        'time_points': t\n",
    "    }\n",
    "\n",
    "    return solution\n",
    "\n",
    "def simulation_additive(file_name, substrate_name, dor_S):\n",
    "    sol = [] # empty list to store solutions\n",
    "    \n",
    "    dor_ac = 8 # e/mol\n",
    "\n",
    "    # Based on Acevedo 2012\n",
    "    ac_load = 0.087\n",
    "    cod_load = ac_load * dor_ac   # mol ac / cmolx  ->  e- mol / cmolx\n",
    "    S_load = cod_load / dor_S\n",
    "\n",
    "    ac = [ac_load, 0, ac_load]\n",
    "    subs = [0, S_load, S_load]\n",
    "    \n",
    "    growth = np.zeros(np.size(ac))\n",
    "    for i in range(3):\n",
    "        solution = cFBA_mix(file_name, ac[i], substrate_name, subs[i])\n",
    "        growth[i] = solution['alpha']\n",
    "        \n",
    "    return growth\n",
    "\n",
    "def plot_growth(growth_perc):\n",
    "    # Variables for summative effect\n",
    "    x_sum = [1, 2, 3]\n",
    "    y1_sum = [\n",
    "        0,\n",
    "        growth[0],             # Growth on acetate\n",
    "        growth[0] + growth[1], # Additive growth \n",
    "    ]\n",
    "    \n",
    "    y2_sum = [\n",
    "        0,\n",
    "        growth[1],             # Growth on substrate\n",
    "        growth[0] + growth[1], # Additive growth \n",
    "    ]\n",
    "    \n",
    "    # Variables for combinatorial effect\n",
    "    x_comb = [2, 3]\n",
    "    y1_comb = [\n",
    "        growth[0],             # Growth on acetate\n",
    "        growth[2]              # Combinatorial growth\n",
    "    ]\n",
    "    \n",
    "    y2_comb = [\n",
    "        growth[1],             # Growth on substrate\n",
    "        growth[2]              # Combinatorial growth\n",
    "    ]\n",
    "\n",
    "    \n",
    "    # Make plot\n",
    "    plt.figure(figsize=[5, 3])\n",
    "    plt.plot(x_sum, y1_sum, '-o', color = 'black')\n",
    "    plt.plot(x_sum, y2_sum, '-o', color = 'black')\n",
    "    plt.plot(x_comb, y1_comb, '--', color = 'grey')\n",
    "    plt.plot(x_comb, y1_comb, '--', color = 'grey')"
   ]
  },
  {
   "cell_type": "code",
   "execution_count": 3,
   "id": "6696e447",
   "metadata": {},
   "outputs": [
    {
     "name": "stdout",
     "output_type": "stream",
     "text": [
      "0.06 min\n",
      "0.06 min\n",
      "0.05 min\n"
     ]
    },
    {
     "data": {
      "text/plain": [
       "array([1.08343121, 1.09114482, 1.17977481])"
      ]
     },
     "execution_count": 3,
     "metadata": {},
     "output_type": "execute_result"
    }
   ],
   "source": [
    "# Simulate substrate and get alpha and perc_substrate values\n",
    "dt = 1\n",
    "file_name = 'cFBA_base_aspartate.xml'\n",
    "substrate_name = 'Asp_ext'\n",
    "dor_S = 12\n",
    "\n",
    "simulation_additive(file_name, substrate_name, dor_S)"
   ]
  }
 ],
 "metadata": {
  "kernelspec": {
   "display_name": "Python (test_py_cFBA)",
   "language": "python",
   "name": "test_py_cfba"
  },
  "language_info": {
   "codemirror_mode": {
    "name": "ipython",
    "version": 3
   },
   "file_extension": ".py",
   "mimetype": "text/x-python",
   "name": "python",
   "nbconvert_exporter": "python",
   "pygments_lexer": "ipython3",
   "version": "3.9.19"
  }
 },
 "nbformat": 4,
 "nbformat_minor": 5
}
